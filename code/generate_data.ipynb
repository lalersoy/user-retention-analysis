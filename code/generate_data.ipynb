{
 "cells": [
  {
   "cell_type": "markdown",
   "metadata": {},
   "source": [
    "# Predicting User Retention in a Healthcare SaaS  \n",
    "\n",
    "**Objective:**  \n",
    "\n",
    "Simulate and analyze behavioral data from a fictional healthcare SaaS product (calling it HealthHub), and identify which early user actions best predict 30-day retention.\n",
    "\n",
    " HealthHub helps users manage chronic conditions by offering tools to log metrics, track progress, access education, and schedule virtual consultations. This notebook simulates event-level data, defines product KPIs (D7 and D30 retention), and uses early behavior to build a simple predictive model for user retention.\n"
   ]
  },
  {
   "cell_type": "markdown",
   "metadata": {},
   "source": [
    "## Notebook Structure\n",
    "\n",
    "1. Simulate user and event data\n",
    "2. Define product KPIs: D7 and D30 retention\n",
    "3. Explore behavior patterns\n",
    "4. Build retention prediction model (LogReg or RandomForest)\n",
    "5. Interpret feature importance\n"
   ]
  },
  {
   "cell_type": "code",
   "execution_count": 1,
   "metadata": {},
   "outputs": [],
   "source": [
    "import pandas as pd\n",
    "import numpy as np\n",
    "import random\n",
    "from datetime import datetime, timedelta\n",
    "import matplotlib.pyplot as plt\n",
    "import seaborn as sns"
   ]
  },
  {
   "cell_type": "markdown",
   "metadata": {},
   "source": [
    "## Step 1: Simulate User Table\n",
    "\n",
    "We create a synthetic user base with:\n",
    "- Unique `user_id`\n",
    "- Randomized `signup_date` across 60 days\n",
    "- Assigned `plan_type` (`free`, `premium`)\n",
    "- Acquisition `channel` (`organic`, `ads`, `referral`, `doctor`)"
   ]
  },
  {
   "cell_type": "code",
   "execution_count": 3,
   "metadata": {},
   "outputs": [
    {
     "data": {
      "text/html": [
       "<div>\n",
       "<style scoped>\n",
       "    .dataframe tbody tr th:only-of-type {\n",
       "        vertical-align: middle;\n",
       "    }\n",
       "\n",
       "    .dataframe tbody tr th {\n",
       "        vertical-align: top;\n",
       "    }\n",
       "\n",
       "    .dataframe thead th {\n",
       "        text-align: right;\n",
       "    }\n",
       "</style>\n",
       "<table border=\"1\" class=\"dataframe\">\n",
       "  <thead>\n",
       "    <tr style=\"text-align: right;\">\n",
       "      <th></th>\n",
       "      <th>user_id</th>\n",
       "      <th>signup_date</th>\n",
       "      <th>plan_type</th>\n",
       "      <th>channel</th>\n",
       "    </tr>\n",
       "  </thead>\n",
       "  <tbody>\n",
       "    <tr>\n",
       "      <th>0</th>\n",
       "      <td>1</td>\n",
       "      <td>2023-02-10</td>\n",
       "      <td>free</td>\n",
       "      <td>referral</td>\n",
       "    </tr>\n",
       "    <tr>\n",
       "      <th>1</th>\n",
       "      <td>2</td>\n",
       "      <td>2023-01-08</td>\n",
       "      <td>premium</td>\n",
       "      <td>doctor</td>\n",
       "    </tr>\n",
       "    <tr>\n",
       "      <th>2</th>\n",
       "      <td>3</td>\n",
       "      <td>2023-01-02</td>\n",
       "      <td>premium</td>\n",
       "      <td>referral</td>\n",
       "    </tr>\n",
       "    <tr>\n",
       "      <th>3</th>\n",
       "      <td>4</td>\n",
       "      <td>2023-02-17</td>\n",
       "      <td>free</td>\n",
       "      <td>doctor</td>\n",
       "    </tr>\n",
       "    <tr>\n",
       "      <th>4</th>\n",
       "      <td>5</td>\n",
       "      <td>2023-01-18</td>\n",
       "      <td>free</td>\n",
       "      <td>doctor</td>\n",
       "    </tr>\n",
       "  </tbody>\n",
       "</table>\n",
       "</div>"
      ],
      "text/plain": [
       "   user_id signup_date plan_type   channel\n",
       "0        1  2023-02-10      free  referral\n",
       "1        2  2023-01-08   premium    doctor\n",
       "2        3  2023-01-02   premium  referral\n",
       "3        4  2023-02-17      free    doctor\n",
       "4        5  2023-01-18      free    doctor"
      ]
     },
     "execution_count": 3,
     "metadata": {},
     "output_type": "execute_result"
    }
   ],
   "source": [
    "n_users = 5000\n",
    "start_date = datetime(2023, 1, 1)\n",
    "signup_window_days = 60\n",
    "\n",
    "plan_types = ['free', 'premium']\n",
    "channels = ['organic', 'ads', 'referral', 'doctor']\n",
    "\n",
    "np.random.seed(42)\n",
    "random.seed(42)\n",
    "\n",
    "users = pd.DataFrame({\n",
    "    'user_id': range(1, n_users + 1),\n",
    "    'signup_date': [start_date + timedelta(days=random.randint(0, signup_window_days)) for _ in range(n_users)],\n",
    "    'plan_type': np.random.choice(plan_types, size=n_users, p=[0.7, 0.3]),\n",
    "    'channel': np.random.choice(channels, size=n_users)\n",
    "})\n",
    "\n",
    "users['signup_date'] = pd.to_datetime(users['signup_date'])\n",
    "users.head()\n"
   ]
  },
  {
   "cell_type": "markdown",
   "metadata": {},
   "source": [
    "##  Step 2: Simulate User Events (Behavioral Log)\n",
    "\n",
    "We simulate a series of in-app actions performed by users across 45 days post-signup.\n",
    "\n",
    "**Event Types:**\n",
    "- `log_metric`\n",
    "- `view_dashboard`\n",
    "- `set_goal`\n",
    "- `read_article`\n",
    "- `schedule_consult`"
   ]
  },
  {
   "cell_type": "code",
   "execution_count": 4,
   "metadata": {},
   "outputs": [],
   "source": [
    "event_types = ['log_metric', 'view_dashboard', 'set_goal', 'read_article', 'schedule_consult']\n",
    "event_weights_free = [0.4, 0.3, 0.1, 0.15, 0.05]\n",
    "event_weights_premium = [0.25, 0.25, 0.2, 0.15, 0.15]\n",
    "\n",
    "event_data = []\n",
    "\n",
    "for idx, row in users.iterrows():\n",
    "    signup = row['signup_date']\n",
    "    is_premium = row['plan_type'] == 'premium'\n",
    "\n",
    "    # Premium users: more events on average\n",
    "    n_events = np.random.poisson(7 if is_premium else 4) + 1\n",
    "\n",
    "    weights = event_weights_premium if is_premium else event_weights_free\n",
    "\n",
    "    for _ in range(n_events):\n",
    "        offset_days = random.randint(0, 45)\n",
    "        timestamp = signup + timedelta(\n",
    "            days=offset_days,\n",
    "            hours=random.randint(0, 23),\n",
    "            minutes=random.randint(0, 59)\n",
    "        )\n",
    "        event_type = random.choices(event_types, weights=weights, k=1)[0]\n",
    "        event_data.append([row['user_id'], timestamp, event_type])\n"
   ]
  },
  {
   "cell_type": "code",
   "execution_count": 5,
   "metadata": {},
   "outputs": [],
   "source": [
    "events = pd.DataFrame(event_data, columns=['user_id', 'timestamp', 'event_type'])"
   ]
  },
  {
   "cell_type": "markdown",
   "metadata": {},
   "source": [
    "## Step 3: Define Retention KPIs\n",
    "\n",
    "We define two standard SaaS retention metrics:\n",
    "- **D7 Retention**: user returns ≥7 days after signup\n",
    "- **D30 Retention**: user returns ≥30 days after signup"
   ]
  },
  {
   "cell_type": "code",
   "execution_count": 6,
   "metadata": {},
   "outputs": [],
   "source": [
    "from datetime import timedelta\n",
    "\n",
    "def was_retained(user_id, days):\n",
    "    signup_date = users.loc[users['user_id'] == user_id, 'signup_date'].values[0]\n",
    "    # convert to datetime in case it's still object\n",
    "    signup_date = pd.to_datetime(signup_date)\n",
    "    cutoff_date = signup_date + timedelta(days=days)\n",
    "    after_cutoff = events[\n",
    "        (events['user_id'] == user_id) &\n",
    "        (events['timestamp'] >= cutoff_date)\n",
    "    ]\n",
    "    return int(len(after_cutoff) >= 2)\n",
    "# This ensures the user must have at least 2 real interactions after day 30 to be considered retained"
   ]
  },
  {
   "cell_type": "code",
   "execution_count": 7,
   "metadata": {},
   "outputs": [],
   "source": [
    "users['retained_d7'] = users['user_id'].apply(lambda uid: was_retained(uid, 7))\n",
    "users['retained_d30'] = users['user_id'].apply(lambda uid: was_retained(uid, 30))"
   ]
  },
  {
   "cell_type": "code",
   "execution_count": 8,
   "metadata": {},
   "outputs": [],
   "source": [
    "# save data\n",
    "import os\n",
    "os.makedirs(\"data\", exist_ok=True)\n",
    "\n",
    "# Save user and event data\n",
    "users.to_csv(\"/Users/lal/Desktop/Github/user-retention-analysis/data/users.csv\", index=False)\n",
    "events.to_csv(\"/Users/lal/Desktop/Github/user-retention-analysis/data/events.csv\", index=False)"
   ]
  },
  {
   "cell_type": "markdown",
   "metadata": {},
   "source": [
    "## Step 4: Add Signup Date to Events\n",
    "\n",
    "To analyze behavior in the first 7 days, we merge each user's `signup_date` into the `events` table. This allows us to calculate how many days after signup each event occurred."
   ]
  },
  {
   "cell_type": "code",
   "execution_count": 9,
   "metadata": {},
   "outputs": [],
   "source": [
    "# Merge signup date into events table\n",
    "events = events.merge(users[['user_id', 'signup_date']], on='user_id')"
   ]
  },
  {
   "cell_type": "markdown",
   "metadata": {},
   "source": [
    "## Step 5: Calculate Days Since Signup\n",
    "\n",
    "We compute a new column `days_since_signup`, which tells us how many days after signing up each event happened. We'll use this to isolate only the first week of activity."
   ]
  },
  {
   "cell_type": "code",
   "execution_count": 10,
   "metadata": {},
   "outputs": [],
   "source": [
    "events['days_since_signup'] = (events['timestamp'] - events['signup_date']).dt.days"
   ]
  },
  {
   "cell_type": "markdown",
   "metadata": {},
   "source": [
    "## Step 6: Filter for First-Week Events\n",
    "\n",
    "We focus only on user actions that occurred within the first 7 days after signup. These behaviors are the basis for predicting long-term retention."
   ]
  },
  {
   "cell_type": "code",
   "execution_count": 11,
   "metadata": {},
   "outputs": [],
   "source": [
    "events_week1 = events[events['days_since_signup'] <= 7]"
   ]
  },
  {
   "cell_type": "markdown",
   "metadata": {},
   "source": [
    "## Step 7: Generate First-Week Behavioral Features\n",
    "\n",
    "For each user, we calculate:\n",
    "- Total number of events in week 1\n",
    "- Number of times each event type was triggered\n",
    "- Number of unique days the user was active\n",
    "\n",
    "These features will help us understand early engagement patterns and train a predictive model.\n"
   ]
  },
  {
   "cell_type": "code",
   "execution_count": 12,
   "metadata": {},
   "outputs": [],
   "source": [
    "# Total events per user\n",
    "total_events = events_week1.groupby('user_id').size().rename('events_first_7_days')\n",
    "\n",
    "# Event type counts per user\n",
    "event_counts = events_week1.groupby(['user_id', 'event_type']).size().unstack(fill_value=0)\n",
    "\n",
    "# Unique active days per user\n",
    "active_days = events_week1.groupby('user_id')['timestamp'].apply(lambda x: x.dt.date.nunique()).rename('active_days_first_7')\n",
    "\n",
    "# Combine all features\n",
    "features_df = pd.concat([total_events, event_counts, active_days], axis=1).reset_index()"
   ]
  },
  {
   "cell_type": "markdown",
   "metadata": {},
   "source": [
    "## Step 8: Combine with Retention Labels\n",
    "\n",
    "We merge these week-1 behavior features with user-level information:\n",
    "- `retained_d30` (our prediction target)\n",
    "- `plan_type` and `channel` (can be used for segmentation)\n",
    "\n",
    "This gives us a clean dataset ready for modeling.\n"
   ]
  },
  {
   "cell_type": "code",
   "execution_count": 13,
   "metadata": {},
   "outputs": [
    {
     "data": {
      "text/html": [
       "<div>\n",
       "<style scoped>\n",
       "    .dataframe tbody tr th:only-of-type {\n",
       "        vertical-align: middle;\n",
       "    }\n",
       "\n",
       "    .dataframe tbody tr th {\n",
       "        vertical-align: top;\n",
       "    }\n",
       "\n",
       "    .dataframe thead th {\n",
       "        text-align: right;\n",
       "    }\n",
       "</style>\n",
       "<table border=\"1\" class=\"dataframe\">\n",
       "  <thead>\n",
       "    <tr style=\"text-align: right;\">\n",
       "      <th></th>\n",
       "      <th>user_id</th>\n",
       "      <th>events_first_7_days</th>\n",
       "      <th>log_metric</th>\n",
       "      <th>read_article</th>\n",
       "      <th>schedule_consult</th>\n",
       "      <th>set_goal</th>\n",
       "      <th>view_dashboard</th>\n",
       "      <th>active_days_first_7</th>\n",
       "      <th>retained_d30</th>\n",
       "      <th>plan_type</th>\n",
       "      <th>channel</th>\n",
       "    </tr>\n",
       "  </thead>\n",
       "  <tbody>\n",
       "    <tr>\n",
       "      <th>0</th>\n",
       "      <td>1</td>\n",
       "      <td>1</td>\n",
       "      <td>0</td>\n",
       "      <td>0</td>\n",
       "      <td>1</td>\n",
       "      <td>0</td>\n",
       "      <td>0</td>\n",
       "      <td>1</td>\n",
       "      <td>0</td>\n",
       "      <td>free</td>\n",
       "      <td>referral</td>\n",
       "    </tr>\n",
       "    <tr>\n",
       "      <th>1</th>\n",
       "      <td>2</td>\n",
       "      <td>1</td>\n",
       "      <td>0</td>\n",
       "      <td>0</td>\n",
       "      <td>0</td>\n",
       "      <td>0</td>\n",
       "      <td>1</td>\n",
       "      <td>1</td>\n",
       "      <td>1</td>\n",
       "      <td>premium</td>\n",
       "      <td>doctor</td>\n",
       "    </tr>\n",
       "    <tr>\n",
       "      <th>2</th>\n",
       "      <td>3</td>\n",
       "      <td>2</td>\n",
       "      <td>1</td>\n",
       "      <td>0</td>\n",
       "      <td>1</td>\n",
       "      <td>0</td>\n",
       "      <td>0</td>\n",
       "      <td>2</td>\n",
       "      <td>1</td>\n",
       "      <td>premium</td>\n",
       "      <td>referral</td>\n",
       "    </tr>\n",
       "    <tr>\n",
       "      <th>3</th>\n",
       "      <td>4</td>\n",
       "      <td>1</td>\n",
       "      <td>0</td>\n",
       "      <td>0</td>\n",
       "      <td>0</td>\n",
       "      <td>0</td>\n",
       "      <td>1</td>\n",
       "      <td>1</td>\n",
       "      <td>1</td>\n",
       "      <td>free</td>\n",
       "      <td>doctor</td>\n",
       "    </tr>\n",
       "    <tr>\n",
       "      <th>4</th>\n",
       "      <td>5</td>\n",
       "      <td>2</td>\n",
       "      <td>0</td>\n",
       "      <td>0</td>\n",
       "      <td>0</td>\n",
       "      <td>1</td>\n",
       "      <td>1</td>\n",
       "      <td>2</td>\n",
       "      <td>0</td>\n",
       "      <td>free</td>\n",
       "      <td>doctor</td>\n",
       "    </tr>\n",
       "  </tbody>\n",
       "</table>\n",
       "</div>"
      ],
      "text/plain": [
       "   user_id  events_first_7_days  log_metric  read_article  schedule_consult  \\\n",
       "0        1                    1           0             0                 1   \n",
       "1        2                    1           0             0                 0   \n",
       "2        3                    2           1             0                 1   \n",
       "3        4                    1           0             0                 0   \n",
       "4        5                    2           0             0                 0   \n",
       "\n",
       "   set_goal  view_dashboard  active_days_first_7  retained_d30 plan_type  \\\n",
       "0         0               0                    1             0      free   \n",
       "1         0               1                    1             1   premium   \n",
       "2         0               0                    2             1   premium   \n",
       "3         0               1                    1             1      free   \n",
       "4         1               1                    2             0      free   \n",
       "\n",
       "    channel  \n",
       "0  referral  \n",
       "1    doctor  \n",
       "2  referral  \n",
       "3    doctor  \n",
       "4    doctor  "
      ]
     },
     "execution_count": 13,
     "metadata": {},
     "output_type": "execute_result"
    }
   ],
   "source": [
    "features_df = features_df.merge(users[['user_id', 'retained_d30', 'plan_type', 'channel']], on='user_id')\n",
    "features_df.head()"
   ]
  },
  {
   "cell_type": "markdown",
   "metadata": {},
   "source": [
    "## Step 9: Visualizing Retention Rates\n",
    "\n",
    "Before modeling, we explore how retention varies across users based on early behaviors, acquisition channels, and subscription plans."
   ]
  },
  {
   "cell_type": "code",
   "execution_count": 14,
   "metadata": {},
   "outputs": [
    {
     "name": "stdout",
     "output_type": "stream",
     "text": [
      "D30 Retention Rate: 61.19%\n"
     ]
    }
   ],
   "source": [
    "# Retention rate\n",
    "retention_rate = features_df['retained_d30'].mean()\n",
    "print(f\"D30 Retention Rate: {retention_rate:.2%}\")"
   ]
  },
  {
   "cell_type": "markdown",
   "metadata": {},
   "source": [
    "### Retention by Plan Type\n",
    "\n",
    "We check if premium users are more likely to stay engaged than free users.\n"
   ]
  },
  {
   "cell_type": "code",
   "execution_count": 15,
   "metadata": {},
   "outputs": [
    {
     "data": {
      "image/png": "[encoded data removed]",
      "text/plain": [
       "<Figure size 640x480 with 1 Axes>"
      ]
     },
     "metadata": {},
     "output_type": "display_data"
    }
   ],
   "source": [
    "sns.barplot(\n",
    "    data=features_df,\n",
    "    x='plan_type',\n",
    "    y='retained_d30',\n",
    "    estimator=np.mean\n",
    ")\n",
    "plt.title('D30 Retention Rate by Plan Type')\n",
    "plt.ylabel('Retention Rate')\n",
    "plt.xlabel('Plan')\n",
    "plt.ylim(0, 1)\n",
    "plt.savefig(\"/Users/lal/Desktop/Github/user-retention-analysis/visualisations/retention_by_plan.png\", bbox_inches=\"tight\")\n",
    "plt.show()"
   ]
  },
  {
   "cell_type": "markdown",
   "metadata": {},
   "source": [
    "## Event Usage by Retained vs. Churned Users\n",
    "\n",
    "This chart shows how frequently users performed each action in their first 7 days, segmented by retention status at Day 30.\n",
    "\n",
    "It helps identify high-signal behaviors: features that retained users tend to use more.\n"
   ]
  },
  {
   "cell_type": "code",
   "execution_count": 17,
   "metadata": {},
   "outputs": [
    {
     "data": {
      "image/png": "[encoded data removed]",
      "text/plain": [
       "<Figure size 1000x600 with 1 Axes>"
      ]
     },
     "metadata": {},
     "output_type": "display_data"
    }
   ],
   "source": [
    "event_columns = ['log_metric', 'view_dashboard', 'set_goal', 'read_article', 'schedule_consult']\n",
    "\n",
    "retained_means = features_df[features_df['retained_d30'] == 1][event_columns].mean()\n",
    "churned_means = features_df[features_df['retained_d30'] == 0][event_columns].mean()\n",
    "\n",
    "event_df = pd.DataFrame({\n",
    "    'Retained': retained_means,\n",
    "    'Churned': churned_means\n",
    "})\n",
    "\n",
    "event_df.plot(kind='bar', figsize=(10, 6))\n",
    "plt.title('Avg. Event Count in First 7 Days (Retained vs. Churned Users)')\n",
    "plt.ylabel('Average Count')\n",
    "plt.xlabel('Event Type')\n",
    "plt.xticks(rotation=45)\n",
    "plt.legend(title='User Status')\n",
    "plt.tight_layout()\n",
    "plt.savefig(\"/Users/lal/Desktop/Github/user-retention-analysis/visualisations/behavior_by_event_type.png\", bbox_inches=\"tight\")\n",
    "plt.show()"
   ]
  }
 ],
 "metadata": {
  "kernelspec": {
   "display_name": "Python 3.12.2 ('base')",
   "language": "python",
   "name": "python3"
  },
  "language_info": {
   "codemirror_mode": {
    "name": "ipython",
    "version": 3
   },
   "file_extension": ".py",
   "mimetype": "text/x-python",
   "name": "python",
   "nbconvert_exporter": "python",
   "pygments_lexer": "ipython3",
   "version": "3.12.2"
  },
  "orig_nbformat": 4,
  "vscode": {
   "interpreter": {
    "hash": "40d3a090f54c6569ab1632332b64b2c03c39dcf918b08424e98f38b5ae0af88f"
   }
  }
 },
 "nbformat": 4,
 "nbformat_minor": 2
}
